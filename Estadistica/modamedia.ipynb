{
 "cells": [
  {
   "cell_type": "code",
   "execution_count": 2,
   "metadata": {},
   "outputs": [
    {
     "name": "stdout",
     "output_type": "stream",
     "text": [
      "<class 'pandas.core.frame.DataFrame'>\n",
      "RangeIndex: 50 entries, 0 to 49\n",
      "Data columns (total 1 columns):\n",
      " #   Column         Non-Null Count  Dtype\n",
      "---  ------         --------------  -----\n",
      " 0   Talla_Zapatos  50 non-null     int64\n",
      "dtypes: int64(1)\n",
      "memory usage: 532.0 bytes\n"
     ]
    }
   ],
   "source": [
    "import pandas as pd\n",
    "import numpy as np\n",
    "\n",
    "dataRead1 = pd.read_excel('Estadistica.xlsx', sheet_name='Cuantitativos_Discretos')\n",
    "\n",
    "dataRead2 = pd.read_excel('Estadistica.xlsx', sheet_name='Cuantitativos_Continuos')\n",
    "\n",
    "dataRead1.info()\n",
    "\n",
    "dataRead2.info()"
   ]
  },
  {
   "cell_type": "code",
   "execution_count": 3,
   "metadata": {},
   "outputs": [
    {
     "name": "stdout",
     "output_type": "stream",
     "text": [
      "38.04\n",
      "77.622\n",
      "38.0\n",
      "77.5\n"
     ]
    }
   ],
   "source": [
    "media_aritmetica1 = dataRead1['Talla_Zapatos'].mean()\n",
    "media_aritmetica2 = dataRead2['Peso_Estudiantes'].mean()\n",
    "\n",
    "mediana1 = dataRead1['Talla_Zapatos'].median()\n",
    "mediana2 = dataRead2['Peso_Estudiantes'].median()\n",
    "\n",
    "print(media_aritmetica1)\n",
    "print(media_aritmetica2)\n",
    "\n",
    "print(mediana1)\n",
    "print(mediana2)"
   ]
  },
  {
   "cell_type": "code",
   "execution_count": 4,
   "metadata": {},
   "outputs": [
    {
     "name": "stdout",
     "output_type": "stream",
     "text": [
      "0    38\n",
      "1    39\n",
      "Name: Talla_Zapatos, dtype: int64\n",
      "0    80.3\n",
      "Name: Peso_Estudiantes, dtype: float64\n"
     ]
    }
   ],
   "source": [
    "moda1 = dataRead1['Talla_Zapatos'].mode()\n",
    "\n",
    "moda2 = dataRead2['Peso_Estudiantes'].mode()\n",
    "\n",
    "print(moda1)\n",
    "print(moda2)"
   ]
  },
  {
   "cell_type": "code",
   "execution_count": 8,
   "metadata": {},
   "outputs": [
    {
     "name": "stdout",
     "output_type": "stream",
     "text": [
      "    Peso_Estudiantes\n",
      "10              80.3\n",
      "11              80.3\n",
      "22              80.3\n",
      "    Peso_Estudiantes\n",
      "10              80.3\n",
      "11              80.3\n",
      "22              80.3\n"
     ]
    }
   ],
   "source": [
    "vista = dataRead2[dataRead2['Peso_Estudiantes'] == 80.3]\n",
    "\n",
    "vista2 = pd.DataFrame(dataRead2)\n",
    "\n",
    "print(vista2.query('Peso_Estudiantes == 80.3'))\n",
    "print(vista)"
   ]
  },
  {
   "cell_type": "code",
   "execution_count": 13,
   "metadata": {},
   "outputs": [
    {
     "name": "stdout",
     "output_type": "stream",
     "text": [
      "Media Peso: 77.622\n",
      "Media Talla: 38.04\n",
      "\n",
      "Mediana Peso: 77.5\n",
      "Mediana Talla: 38.0\n",
      "\n",
      "Moda Peso: 80.3\n",
      "Moda Talla: 38\n",
      "\n"
     ]
    }
   ],
   "source": [
    "import statistics as stat\n",
    "\n",
    "media_aritmetica3 = stat.mean(dataRead2['Peso_Estudiantes'])\n",
    "media_aritmetica4 = stat.mean(dataRead1['Talla_Zapatos'])\n",
    "\n",
    "mediana3 = stat.median(dataRead2['Peso_Estudiantes'])\n",
    "mediana4 = stat.median(dataRead1['Talla_Zapatos'])\n",
    "\n",
    "moda3 = stat.mode(dataRead2['Peso_Estudiantes'])\n",
    "moda4 = stat.mode(dataRead1['Talla_Zapatos'])\n",
    "\n",
    "print('Media Peso:',media_aritmetica3)\n",
    "print('Media Talla:',media_aritmetica4)\n",
    "print()\n",
    "\n",
    "print('Mediana Peso:',mediana3)\n",
    "print('Mediana Talla:',mediana4)\n",
    "print()\n",
    "\n",
    "print('Moda Peso:',moda3)\n",
    "print('Moda Talla:',moda4)\n",
    "print()"
   ]
  },
  {
   "cell_type": "code",
   "execution_count": null,
   "metadata": {},
   "outputs": [],
   "source": []
  }
 ],
 "metadata": {
  "kernelspec": {
   "display_name": "base",
   "language": "python",
   "name": "python3"
  },
  "language_info": {
   "codemirror_mode": {
    "name": "ipython",
    "version": 3
   },
   "file_extension": ".py",
   "mimetype": "text/x-python",
   "name": "python",
   "nbconvert_exporter": "python",
   "pygments_lexer": "ipython3",
   "version": "3.11.5"
  }
 },
 "nbformat": 4,
 "nbformat_minor": 2
}
