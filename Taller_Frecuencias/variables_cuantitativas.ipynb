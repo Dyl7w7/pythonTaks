{
 "cells": [
  {
   "cell_type": "code",
   "execution_count": 2,
   "metadata": {},
   "outputs": [
    {
     "name": "stdout",
     "output_type": "stream",
     "text": [
      "<class 'pandas.core.frame.DataFrame'>\n",
      "RangeIndex: 50 entries, 0 to 49\n",
      "Data columns (total 1 columns):\n",
      " #   Column  Non-Null Count  Dtype\n",
      "---  ------  --------------  -----\n",
      " 0   Edades  50 non-null     int64\n",
      "dtypes: int64(1)\n",
      "memory usage: 532.0 bytes\n"
     ]
    }
   ],
   "source": [
    "import pandas as pd\n",
    "\n",
    "readFile = pd.read_excel('Edades.xlsx')\n",
    "\n",
    "readFile.info()"
   ]
  },
  {
   "cell_type": "code",
   "execution_count": 3,
   "metadata": {},
   "outputs": [
    {
     "data": {
      "text/html": [
       "<div>\n",
       "<style scoped>\n",
       "    .dataframe tbody tr th:only-of-type {\n",
       "        vertical-align: middle;\n",
       "    }\n",
       "\n",
       "    .dataframe tbody tr th {\n",
       "        vertical-align: top;\n",
       "    }\n",
       "\n",
       "    .dataframe thead th {\n",
       "        text-align: right;\n",
       "    }\n",
       "</style>\n",
       "<table border=\"1\" class=\"dataframe\">\n",
       "  <thead>\n",
       "    <tr style=\"text-align: right;\">\n",
       "      <th></th>\n",
       "      <th>Edades</th>\n",
       "      <th>Frecuencia_Absoluta</th>\n",
       "      <th>Frecuencia_Acumulada_Absoluta</th>\n",
       "      <th>Frecuencia_Relativa</th>\n",
       "      <th>Frecuencia_Acumulada_Relativa</th>\n",
       "    </tr>\n",
       "  </thead>\n",
       "  <tbody>\n",
       "    <tr>\n",
       "      <th>0</th>\n",
       "      <td>16</td>\n",
       "      <td>11</td>\n",
       "      <td>11</td>\n",
       "      <td>0.22</td>\n",
       "      <td>0.22</td>\n",
       "    </tr>\n",
       "    <tr>\n",
       "      <th>1</th>\n",
       "      <td>18</td>\n",
       "      <td>11</td>\n",
       "      <td>22</td>\n",
       "      <td>0.22</td>\n",
       "      <td>0.44</td>\n",
       "    </tr>\n",
       "    <tr>\n",
       "      <th>2</th>\n",
       "      <td>17</td>\n",
       "      <td>10</td>\n",
       "      <td>32</td>\n",
       "      <td>0.20</td>\n",
       "      <td>0.64</td>\n",
       "    </tr>\n",
       "    <tr>\n",
       "      <th>3</th>\n",
       "      <td>19</td>\n",
       "      <td>9</td>\n",
       "      <td>41</td>\n",
       "      <td>0.18</td>\n",
       "      <td>0.82</td>\n",
       "    </tr>\n",
       "    <tr>\n",
       "      <th>4</th>\n",
       "      <td>20</td>\n",
       "      <td>4</td>\n",
       "      <td>45</td>\n",
       "      <td>0.08</td>\n",
       "      <td>0.90</td>\n",
       "    </tr>\n",
       "    <tr>\n",
       "      <th>5</th>\n",
       "      <td>22</td>\n",
       "      <td>2</td>\n",
       "      <td>47</td>\n",
       "      <td>0.04</td>\n",
       "      <td>0.94</td>\n",
       "    </tr>\n",
       "    <tr>\n",
       "      <th>6</th>\n",
       "      <td>21</td>\n",
       "      <td>2</td>\n",
       "      <td>49</td>\n",
       "      <td>0.04</td>\n",
       "      <td>0.98</td>\n",
       "    </tr>\n",
       "    <tr>\n",
       "      <th>7</th>\n",
       "      <td>15</td>\n",
       "      <td>1</td>\n",
       "      <td>50</td>\n",
       "      <td>0.02</td>\n",
       "      <td>1.00</td>\n",
       "    </tr>\n",
       "  </tbody>\n",
       "</table>\n",
       "</div>"
      ],
      "text/plain": [
       "   Edades  Frecuencia_Absoluta  Frecuencia_Acumulada_Absoluta  \\\n",
       "0      16                   11                             11   \n",
       "1      18                   11                             22   \n",
       "2      17                   10                             32   \n",
       "3      19                    9                             41   \n",
       "4      20                    4                             45   \n",
       "5      22                    2                             47   \n",
       "6      21                    2                             49   \n",
       "7      15                    1                             50   \n",
       "\n",
       "   Frecuencia_Relativa  Frecuencia_Acumulada_Relativa  \n",
       "0                 0.22                           0.22  \n",
       "1                 0.22                           0.44  \n",
       "2                 0.20                           0.64  \n",
       "3                 0.18                           0.82  \n",
       "4                 0.08                           0.90  \n",
       "5                 0.04                           0.94  \n",
       "6                 0.04                           0.98  \n",
       "7                 0.02                           1.00  "
      ]
     },
     "execution_count": 3,
     "metadata": {},
     "output_type": "execute_result"
    }
   ],
   "source": [
    "frecuencia = readFile['Edades'].value_counts().reset_index()\n",
    "frecuencia.columns = ['Edades', 'Frecuencia_Absoluta']\n",
    "\n",
    "frecuencia['Frecuencia_Acumulada_Absoluta'] = frecuencia['Frecuencia_Absoluta'].cumsum()\n",
    "\n",
    "suma_absoluta = frecuencia[\"Frecuencia_Absoluta\"].sum()\n",
    "frecuencia[\"Frecuencia_Relativa\"] = frecuencia[\"Frecuencia_Absoluta\"] / suma_absoluta\n",
    "\n",
    "frecuencia['Frecuencia_Acumulada_Relativa'] = frecuencia['Frecuencia_Relativa'].cumsum()\n",
    "\n",
    "frecuencia"
   ]
  },
  {
   "cell_type": "code",
   "execution_count": 12,
   "metadata": {},
   "outputs": [
    {
     "data": {
      "text/plain": [
       "<Axes: title={'center': 'Frecuencia Absoluta de Edades'}, xlabel='Edades', ylabel='Cantidad'>"
      ]
     },
     "execution_count": 12,
     "metadata": {},
     "output_type": "execute_result"
    },
    {
     "data": {
      "image/png": "[encoded data removed]",
      "text/plain": [
       "<Figure size 640x480 with 1 Axes>"
      ]
     },
     "metadata": {},
     "output_type": "display_data"
    }
   ],
   "source": [
    "cant_Edades = readFile.groupby('Edades').agg({'Edades': 'count'})\n",
    "cant_Edades.plot(kind='bar', title='Frecuencia Absoluta de Edades', ylabel='Cantidad', color='#28644B')"
   ]
  },
  {
   "cell_type": "code",
   "execution_count": 14,
   "metadata": {},
   "outputs": [
    {
     "data": {
      "image/png": "[encoded data removed]",
      "text/plain": [
       "<Figure size 640x480 with 1 Axes>"
      ]
     },
     "metadata": {},
     "output_type": "display_data"
    }
   ],
   "source": [
    "import matplotlib.pyplot as plt\n",
    "\n",
    "plt.bar(frecuencia['Edades'], frecuencia['Frecuencia_Relativa'], color='brown')\n",
    "plt.title('Frecuencia Relativa de Edades')\n",
    "plt.xlabel('Edades')\n",
    "plt.ylabel('Frecuencia Relativa')\n",
    "plt.show()"
   ]
  },
  {
   "cell_type": "code",
   "execution_count": 15,
   "metadata": {},
   "outputs": [
    {
     "name": "stdout",
     "output_type": "stream",
     "text": [
      "17.92\n",
      "18.0\n",
      "0    16\n",
      "1    18\n",
      "Name: Edades, dtype: int64\n",
      "15\n",
      "22\n"
     ]
    }
   ],
   "source": [
    "media_aritmetica = readFile['Edades'].mean()\n",
    "print(media_aritmetica)\n",
    "\n",
    "mediana = readFile['Edades'].median()\n",
    "print(mediana)\n",
    "\n",
    "moda = readFile['Edades'].mode()\n",
    "print(moda)\n",
    "\n",
    "minimo = readFile['Edades'].min()\n",
    "print(minimo)\n",
    "\n",
    "maximo = readFile['Edades'].max()\n",
    "print(maximo)"
   ]
  },
  {
   "cell_type": "code",
   "execution_count": 16,
   "metadata": {},
   "outputs": [],
   "source": [
    "# El análisis de la distribución de edades revela datos significativos sobre el conjunto de datos. La tabla de frecuencias muestra la cantidad \n",
    "# de individuos en cada grupo de edad y su proporción relativa en la muestra. Las frecuencias acumuladas ofrecen una visión completa de cómo se acumulan\n",
    "# las personas con las mismas edades. Este análisis proporciona comprensión demográfica y puede informar decisiones estratégicas en marketing y recursos\n",
    "# humanos, como dirigir campañas publicitarias o diseñar programas de capacitación adaptados a diferentes grupos de edades."
   ]
  }
 ],
 "metadata": {
  "kernelspec": {
   "display_name": "Python 3",
   "language": "python",
   "name": "python3"
  },
  "language_info": {
   "codemirror_mode": {
    "name": "ipython",
    "version": 3
   },
   "file_extension": ".py",
   "mimetype": "text/x-python",
   "name": "python",
   "nbconvert_exporter": "python",
   "pygments_lexer": "ipython3",
   "version": "3.11.5"
  }
 },
 "nbformat": 4,
 "nbformat_minor": 2
}
